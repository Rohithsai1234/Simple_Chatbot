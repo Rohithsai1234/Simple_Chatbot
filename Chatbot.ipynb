{
 "cells": [
  {
   "cell_type": "markdown",
   "metadata": {},
   "source": [
    "## Import necessary libraries"
   ]
  },
  {
   "cell_type": "code",
   "execution_count": 1,
   "metadata": {},
   "outputs": [],
   "source": [
    "import random\n",
    "import string # to process standard python strings\n",
    "import numpy as np\n",
    "from sklearn.feature_extraction.text import TfidfVectorizer\n",
    "from sklearn.metrics.pairwise import cosine_similarity\n",
    "import warnings\n",
    "warnings.filterwarnings('ignore')"
   ]
  },
  {
   "cell_type": "code",
   "execution_count": 2,
   "metadata": {},
   "outputs": [
    {
     "name": "stdout",
     "output_type": "stream",
     "text": [
      "Requirement already satisfied: nltk in d:\\softwares\\anaconda\\lib\\site-packages (3.5)\n",
      "Requirement already satisfied: joblib in d:\\softwares\\anaconda\\lib\\site-packages (from nltk) (0.17.0)\n",
      "Requirement already satisfied: click in d:\\softwares\\anaconda\\lib\\site-packages (from nltk) (7.1.2)\n",
      "Requirement already satisfied: regex in d:\\softwares\\anaconda\\lib\\site-packages (from nltk) (2020.10.15)\n",
      "Requirement already satisfied: tqdm in d:\\softwares\\anaconda\\lib\\site-packages (from nltk) (4.50.2)\n",
      "Note: you may need to restart the kernel to use updated packages.\n"
     ]
    }
   ],
   "source": [
    "pip install nltk"
   ]
  },
  {
   "cell_type": "code",
   "execution_count": 3,
   "metadata": {},
   "outputs": [
    {
     "data": {
      "text/plain": [
       "True"
      ]
     },
     "execution_count": 3,
     "metadata": {},
     "output_type": "execute_result"
    }
   ],
   "source": [
    "import nltk\n",
    "from nltk.stem import WordNetLemmatizer\n",
    "nltk.download('popular', quiet=True) # for downloading packages\n",
    "#nltk.download('punkt') # first-time use only\n",
    "#nltk.download('wordnet') # first-time use only"
   ]
  },
  {
   "cell_type": "markdown",
   "metadata": {},
   "source": [
    "## Reading in the corpus\n",
    "\n",
    "For our example,we will be using the Wikipedia page for chatbots as our corpus. Copy the contents from the page and place it in a text file named ‘chatbot.txt’. However, you can use any corpus of your choice."
   ]
  },
  {
   "cell_type": "code",
   "execution_count": 4,
   "metadata": {},
   "outputs": [],
   "source": [
    "f=open('cc.txt','r',errors = 'ignore')\n",
    "raw=f.read()\n",
    "raw = raw.lower()# converts to lowercase"
   ]
  },
  {
   "cell_type": "markdown",
   "metadata": {},
   "source": [
    "## Tokenisation"
   ]
  },
  {
   "cell_type": "code",
   "execution_count": 5,
   "metadata": {
    "scrolled": true
   },
   "outputs": [
    {
     "name": "stdout",
     "output_type": "stream",
     "text": [
      "['cloud computing\\ncloud computing means that instead of all the computer hardware and software you\\'re using sitting on your desktop, or somewhere inside your company\\'s network, it\\'s provided for you as a service by another company and accessed over the internet, usually in a completely seamless way, exactly where the hardware and software is located and how it all works doesn\\'t matter to you, the userâ€”it\\'s just somewhere up in the nebulous \"cloud\" that the internet represents.', 'simple example:\\n soundcloudâ€”one of my favorite examples of a website (and mobile app) that uses it to good effect, musicians and djs upload their music, which \"followers\" can listen to (or preview) for free through real-time streaming, you can build up a personal collection of tracks you like and access them from any device, anytime, anywhere, the music you listen to stays up in the cloud: in theory, there is only ever one copy of every music file that\\'s uploaded, where is the music stored?']\n",
      "['cloud', 'computing', 'cloud', 'computing', 'means', 'that', 'instead', 'of']\n"
     ]
    }
   ],
   "source": [
    "sent_tokens = nltk.sent_tokenize(raw)# converts to list of sentences\n",
    "print(sent_tokens[:2])\n",
    "word_tokens = nltk.word_tokenize(raw)# converts to list of words\n",
    "print(word_tokens[:8])"
   ]
  },
  {
   "cell_type": "markdown",
   "metadata": {},
   "source": [
    "## Preprocessing\n",
    "\n",
    "We shall now define a function called LemTokens which will take as input the tokens and return normalized tokens."
   ]
  },
  {
   "cell_type": "code",
   "execution_count": 6,
   "metadata": {},
   "outputs": [],
   "source": [
    "lemmer = nltk.stem.WordNetLemmatizer()\n",
    "#WordNet is a semantically-oriented dictionary of English included in NLTK.\n",
    "def LemTokens(tokens):\n",
    "    return [lemmer.lemmatize(token) for token in tokens]\n",
    "remove_punct_dict = dict((ord(punct), None) for punct in string.punctuation)\n",
    "\n",
    "def LemNormalize(text):\n",
    "    return LemTokens(nltk.word_tokenize(text.lower().translate(remove_punct_dict)))"
   ]
  },
  {
   "cell_type": "markdown",
   "metadata": {},
   "source": [
    "## Keyword matching\n",
    "\n",
    "Next, we shall define a function for a greeting by the bot i.e if a user’s input is a greeting, the bot shall return a greeting response.ELIZA uses a simple keyword matching for greetings. We will utilize the same concept here."
   ]
  },
  {
   "cell_type": "code",
   "execution_count": 7,
   "metadata": {},
   "outputs": [],
   "source": [
    "GREETING_INPUTS = (\"hello\", \"hi\", \"greetings\", \"sup\", \"what's up\",\"hey\",)\n",
    "GREETING_RESPONSES = [\"hi\",\"It's a pleasure to have you here today!\", \"hey\", \"hi there\", \"hello\", \"I am glad! You are talking to me\"]\n",
    "def greeting(sentence):\n",
    " \n",
    "    for word in sentence.split():\n",
    "        if word.lower() in GREETING_INPUTS:\n",
    "            return random.choice(GREETING_RESPONSES)"
   ]
  },
  {
   "cell_type": "markdown",
   "metadata": {},
   "source": [
    "To generate a response from our bot for input questions, the concept of document similarity will be used. We define a function response which searches the user’s utterance for one or more known keywords and returns one of several possible responses. If it doesn’t find the input matching any of the keywords, it returns a response:” I am sorry! I don’t understand you”"
   ]
  },
  {
   "cell_type": "code",
   "execution_count": 8,
   "metadata": {},
   "outputs": [],
   "source": [
    "def response(user_response):\n",
    "    robo_response=''\n",
    "    sent_tokens.append(user_response)\n",
    "    TfidfVec = TfidfVectorizer(tokenizer=LemNormalize, stop_words='english')\n",
    "    tfidf = TfidfVec.fit_transform(sent_tokens)\n",
    "    vals = cosine_similarity(tfidf[-1], tfidf)\n",
    "    idx=vals.argsort()[0][-2]\n",
    "    flat = vals.flatten()\n",
    "    flat.sort()\n",
    "    req_tfidf = flat[-2]\n",
    "    if(req_tfidf==0):\n",
    "        robo_response=robo_response+\"I am sorry! I don't understand you, try rephrasing your question\"\n",
    "        return robo_response\n",
    "    else:\n",
    "        robo_response = robo_response+sent_tokens[idx]\n",
    "        return robo_response\n",
    "\n"
   ]
  },
  {
   "cell_type": "markdown",
   "metadata": {},
   "source": [
    "Finally, we will feed the lines that we want our bot to say while starting and ending a conversation depending upon user’s input."
   ]
  },
  {
   "cell_type": "code",
   "execution_count": 9,
   "metadata": {},
   "outputs": [
    {
     "name": "stdout",
     "output_type": "stream",
     "text": [
      "CT: My name is Cloud Tech, you can call me CT. I am here to increase your knowledge on cloud computing ^.^\n",
      " If you want to exit, type Bye!\n",
      "\n",
      "hi\n",
      "CT: hi there\n",
      "what is cloud computing?\n",
      "CT: cloud computing\n",
      "cloud computing means that instead of all the computer hardware and software you're using sitting on your desktop, or somewhere inside your company's network, it's provided for you as a service by another company and accessed over the internet, usually in a completely seamless way, exactly where the hardware and software is located and how it all works doesn't matter to you, the userâ€”it's just somewhere up in the nebulous \"cloud\" that the internet represents.\n",
      "are there any types?\n",
      "CT: types of cloud computing:\n",
      "infrastructure as a service \n",
      "software as a service \n",
      "platform as a service.\n",
      "what is iaas?\n",
      "CT: iaas means you're buying access to raw computing hardware over the net, such as servers or storage, since you buy what you need and pay-as-you-go, this is often referred to as utility computing, ordinary web hosting is a simple example of iaas: you pay a monthly subscription or a per-megabyte/gigabyte fee to have a hosting company serve up files for your website from their servers.\n",
      "are there any drawbacks?\n",
      "CT: drawbacks include, instant convenience comes at a price, instead of purchasing computers and software, it means you buy services, so one-off, upfront capital costs become ongoing operating costs instead, that might work out much more expensive in the long-term.\n",
      "what about the advantages?\n",
      "CT: advantages and disadvantages\n",
      "\n",
      "advantages include, allowing you to buy in only the services you want, when you want them, cutting the upfront capital costs of computers and peripherals, you avoid equipment going out of date and other familiar it problems like ensuring system security and reliability, you can add extra services (or take them away) at a moment's notice as your business needs change, it's really quick and easy to add new applications or services to your business without waiting weeks or months for the new computer (and its software) to arrive.\n",
      "are there any business benefits?\n",
      "CT: business benefits include, businesses have shrewder and more interesting reasons for liking the cloud, instead of depending on microsoft office, to give one very concrete example, they can use free, cloud-based open-source alternatives such as google docs, so there are obvious cost and practical advantages: you don't have to worry about expensive software licenses or security updates, and your staff can simply and securely share documents across business locations (and work on them just as easily from home), using it to run applications has a similarly compelling business case: you can buy in as much (or little) computing resource as you need at any given moment, so there's no problem of having to fund expensive infrastructure upfront.\n",
      "bye\n",
      "CT: Bye! take care..\n"
     ]
    }
   ],
   "source": [
    "flag=True\n",
    "print(\"CT: My name is Cloud Tech, you can call me CT. I am here to increase your knowledge on cloud computing ^.^\\n If you want to exit, type Bye!\\n\")\n",
    "while(flag==True):\n",
    "    user_response = input()\n",
    "    user_response=user_response.lower()\n",
    "    if(user_response!='bye'):\n",
    "        if(user_response=='thanks' or user_response=='thank you' ):\n",
    "            flag=False\n",
    "            print(\"CT: You are welcome..\")\n",
    "        else:\n",
    "            if(greeting(user_response)!=None):\n",
    "                print(\"CT: \"+greeting(user_response))\n",
    "            else:\n",
    "                print(\"CT: \",end=\"\")\n",
    "                print(response(user_response))\n",
    "                sent_tokens.remove(user_response)\n",
    "    else:\n",
    "        flag=False\n",
    "        print(\"CT: Bye! take care..\")"
   ]
  },
  {
   "cell_type": "code",
   "execution_count": null,
   "metadata": {},
   "outputs": [],
   "source": []
  }
 ],
 "metadata": {
  "kernelspec": {
   "display_name": "Python 3",
   "language": "python",
   "name": "python3"
  },
  "language_info": {
   "codemirror_mode": {
    "name": "ipython",
    "version": 3
   },
   "file_extension": ".py",
   "mimetype": "text/x-python",
   "name": "python",
   "nbconvert_exporter": "python",
   "pygments_lexer": "ipython3",
   "version": "3.8.3"
  }
 },
 "nbformat": 4,
 "nbformat_minor": 2
}
